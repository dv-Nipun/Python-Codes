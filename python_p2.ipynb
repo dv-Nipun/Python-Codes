{
 "cells": [
  {
   "cell_type": "code",
   "execution_count": 1,
   "id": "b34811cf",
   "metadata": {},
   "outputs": [],
   "source": [
    "#python part-2\n"
   ]
  },
  {
   "cell_type": "code",
   "execution_count": 2,
   "id": "b51b0e52",
   "metadata": {},
   "outputs": [
    {
     "name": "stdout",
     "output_type": "stream",
     "text": [
      "Enter first number 5\n",
      "Enter second number 4\n",
      "20\n"
     ]
    }
   ],
   "source": [
    "#1. Write a program to accept two numbers from the user and calculate multiplication\n",
    "n1 = int(input(\"Enter first number \"))\n",
    "n2 = int(input(\"Enter second number \"))\n",
    "\n",
    "res = n1 * n2\n",
    "print(res)\n"
   ]
  },
  {
   "cell_type": "code",
   "execution_count": 4,
   "id": "159be5cc",
   "metadata": {},
   "outputs": [
    {
     "name": "stdout",
     "output_type": "stream",
     "text": [
      "Name**Is**James\n"
     ]
    }
   ],
   "source": [
    "#2. Display three string “Name”, “Is”, “James” as “Name**Is**James”\n",
    "print( 'Name', 'Is', 'James', sep='**')"
   ]
  },
  {
   "cell_type": "code",
   "execution_count": 8,
   "id": "12553035",
   "metadata": {},
   "outputs": [
    {
     "name": "stdout",
     "output_type": "stream",
     "text": [
      "10\n"
     ]
    }
   ],
   "source": [
    "#3. Convert Decimal number to octal using print() output formatting\n",
    "n = 8\n",
    "print('%o' % n)\n"
   ]
  },
  {
   "cell_type": "code",
   "execution_count": 10,
   "id": "a3d54a68",
   "metadata": {},
   "outputs": [
    {
     "name": "stdout",
     "output_type": "stream",
     "text": [
      "458.541315\n",
      "458.541\n"
     ]
    }
   ],
   "source": [
    "#4.Display float number with 3 decimal places using print()\n",
    "n = 458.541315\n",
    "print(n)\n",
    "print('%.3f' % n)"
   ]
  },
  {
   "cell_type": "code",
   "execution_count": 13,
   "id": "e0d4a4cc",
   "metadata": {},
   "outputs": [
    {
     "name": "stdout",
     "output_type": "stream",
     "text": [
      "Enter three stringnipun rahul udit\n",
      "Name1: nipun\n",
      "Name2: rahul\n",
      "Name3: udit\n"
     ]
    }
   ],
   "source": [
    "#5.Accept any three string from one input() call\n",
    "str1, str2, str3 = input(\"Enter three string\").split()\n",
    "print('Name1:', str1)\n",
    "print('Name2:', str2)\n",
    "print('Name3:', str3)\n"
   ]
  },
  {
   "cell_type": "code",
   "execution_count": 16,
   "id": "ffbc28a2",
   "metadata": {},
   "outputs": [
    {
     "name": "stdout",
     "output_type": "stream",
     "text": [
      "enter three numbers :anant udit nipun\n",
      "int1: anant\n",
      "int2: udit\n",
      "int3: nipun\n"
     ]
    }
   ],
   "source": [
    "m,n,o=input(\"enter three numbers :\").split()\n",
    "print('name1:',m)\n",
    "print('name2:',n)\n",
    "print('name3:',o)"
   ]
  },
  {
   "cell_type": "code",
   "execution_count": 18,
   "id": "d80630e6",
   "metadata": {},
   "outputs": [
    {
     "name": "stdout",
     "output_type": "stream",
     "text": [
      "I have 1000 dollars so I can buy 3 football for 450 dollars.\n"
     ]
    }
   ],
   "source": [
    "#6.Format variables using a string.format() method.\n",
    "\n",
    "#Write a program to use string.format() method to format the following three variables as per the expected output\n",
    "quantity = 3\n",
    "totalMoney = 1000\n",
    "price = 450\n",
    "statement1 = \"I have {1} dollars so I can buy {0} football for {2} dollars.\"\n",
    "print(statement1.format(quantity, totalMoney, price))\n"
   ]
  },
  {
   "cell_type": "code",
   "execution_count": 22,
   "id": "dfebac86",
   "metadata": {},
   "outputs": [
    {
     "name": "stdout",
     "output_type": "stream",
     "text": [
      "file is not empty\n"
     ]
    }
   ],
   "source": [
    "#7.Check file is empty or not\n",
    "import os\n",
    "\n",
    "size = os.stat(\"test2.csv\").st_size\n",
    "if size == 0:\n",
    "    print('file is empty')\n",
    "else:\n",
    "    print(\"file is not empty\")\n"
   ]
  },
  {
   "cell_type": "code",
   "execution_count": 24,
   "id": "64b364fc",
   "metadata": {},
   "outputs": [
    {
     "name": "stdout",
     "output_type": "stream",
     "text": [
      "Sudhanshu,30,8,25000\n",
      "\n"
     ]
    }
   ],
   "source": [
    "#8. Read line number 4 from the following file\n",
    "# read file\n",
    "with open(\"test2.csv\", \"r\") as fp:\n",
    "    # read all lines from a file\n",
    "    lines = fp.readlines()\n",
    "    # get line number 3\n",
    "    print(lines[2])\n"
   ]
  },
  {
   "cell_type": "code",
   "execution_count": 27,
   "id": "4f07030c",
   "metadata": {},
   "outputs": [],
   "source": [
    "# part -3(LOOPS)\n",
    "\n",
    "\n",
    "\n",
    "\n",
    "\n",
    "\n",
    "\n"
   ]
  },
  {
   "cell_type": "code",
   "execution_count": 28,
   "id": "d523fef1",
   "metadata": {},
   "outputs": [
    {
     "name": "stdout",
     "output_type": "stream",
     "text": [
      "1\n",
      "2\n",
      "3\n",
      "4\n",
      "5\n",
      "6\n",
      "7\n",
      "8\n",
      "9\n",
      "10\n"
     ]
    }
   ],
   "source": [
    "#.1.Print First 10 natural numbers using while loop\n",
    "\n",
    "i = 1\n",
    "while i <= 10:\n",
    "    print(i)\n",
    "    i += 1\n"
   ]
  },
  {
   "cell_type": "code",
   "execution_count": 39,
   "id": "b5406b49",
   "metadata": {},
   "outputs": [
    {
     "name": "stdout",
     "output_type": "stream",
     "text": [
      "Number Pattern \n",
      "1 \n",
      "1 2 \n",
      "1 2 3 \n",
      "1 2 3 4 \n",
      "1 2 3 4 5 \n"
     ]
    }
   ],
   "source": [
    "#2. Print the Pattern\n",
    "print(\"Number Pattern \")\n",
    "\n",
    "row = 5\n",
    "for i in range(1, row + 1,1):\n",
    "    for j in range(1, i + 1):\n",
    "        print(j, end=' ')\n",
    "    print(\"\")\n"
   ]
  },
  {
   "cell_type": "code",
   "execution_count": 32,
   "id": "bc23273a",
   "metadata": {},
   "outputs": [
    {
     "name": "stdout",
     "output_type": "stream",
     "text": [
      "Enter number 12\n",
      "Sum is: 78\n"
     ]
    }
   ],
   "source": [
    "#3. Calculate the sum of all numbers from 1 to a given number\n",
    "n = int(input(\"Enter number \"))\n",
    "# pass range of numbers to sum() function\n",
    "x = sum(range(1, n + 1))\n",
    "print('Sum is:', x)"
   ]
  },
  {
   "cell_type": "code",
   "execution_count": 33,
   "id": "fb50d484",
   "metadata": {},
   "outputs": [
    {
     "name": "stdout",
     "output_type": "stream",
     "text": [
      "75\n",
      "150\n",
      "145\n"
     ]
    }
   ],
   "source": [
    "#4. Display numbers from a list using loop\n",
    "numbers = [12, 75, 150, 180, 145, 525, 50]\n",
    "\n",
    "for item in numbers:\n",
    "    if item > 500:\n",
    "        break\n",
    "    elif item > 150:\n",
    "        continue\n",
    "    elif item % 5 == 0:\n",
    "        print(item)\n"
   ]
  },
  {
   "cell_type": "code",
   "execution_count": 34,
   "id": "ecf77d02",
   "metadata": {},
   "outputs": [
    {
     "name": "stdout",
     "output_type": "stream",
     "text": [
      "Total digits are: 5\n"
     ]
    }
   ],
   "source": [
    "#5.Count the total number of digits in a number\n",
    "num = 75869\n",
    "count = 0\n",
    "while num != 0:\n",
    "    num = num // 10\n",
    "    count = count + 1\n",
    "print(\"Total digits are:\", count)\n"
   ]
  },
  {
   "cell_type": "code",
   "execution_count": 41,
   "id": "9b28292b",
   "metadata": {},
   "outputs": [
    {
     "name": "stdout",
     "output_type": "stream",
     "text": [
      "5 4 3 2 1 \n",
      "4 3 2 1 \n",
      "3 2 1 \n",
      "2 1 \n",
      "1 \n",
      "\n"
     ]
    }
   ],
   "source": [
    "#6.Print the pattern \n",
    "n = 5\n",
    "k = 5\n",
    "for i in range(0,n+1):\n",
    "    for j in range(k-i,0,-1):\n",
    "        print(j,end=' ')\n",
    "    print()\n"
   ]
  },
  {
   "cell_type": "code",
   "execution_count": 42,
   "id": "dd65e7bd",
   "metadata": {},
   "outputs": [
    {
     "name": "stdout",
     "output_type": "stream",
     "text": [
      "50\n",
      "40\n",
      "30\n",
      "20\n",
      "10\n"
     ]
    }
   ],
   "source": [
    "#7.Print list in reverse order using a loop\n",
    "list1 = [10, 20, 30, 40, 50]\n",
    "new_list = reversed(list1)\n",
    "for item in new_list:\n",
    "    print(item)\n"
   ]
  },
  {
   "cell_type": "code",
   "execution_count": 45,
   "id": "e423a5d6",
   "metadata": {},
   "outputs": [
    {
     "name": "stdout",
     "output_type": "stream",
     "text": [
      "-10\n",
      "-9\n",
      "-8\n",
      "-7\n",
      "-6\n",
      "-5\n",
      "-4\n",
      "-3\n",
      "-2\n",
      "-1\n"
     ]
    }
   ],
   "source": [
    "#8.Display numbers from -10 to -1 using for loop\n",
    "for num in range(-10, 0, 1):\n",
    "    print(num)"
   ]
  },
  {
   "cell_type": "code",
   "execution_count": 46,
   "id": "25d9a46e",
   "metadata": {},
   "outputs": [
    {
     "name": "stdout",
     "output_type": "stream",
     "text": [
      "0\n",
      "1\n",
      "2\n",
      "3\n",
      "4\n",
      "Done!\n"
     ]
    }
   ],
   "source": [
    "#9.Use else block to display a message “Done” after successful execution of for loop\n",
    "for i in range(5):\n",
    "    print(i)\n",
    "else:\n",
    "    print(\"Done!\")"
   ]
  },
  {
   "cell_type": "code",
   "execution_count": 47,
   "id": "96e6337b",
   "metadata": {},
   "outputs": [
    {
     "name": "stdout",
     "output_type": "stream",
     "text": [
      "Fibonacci sequence:\n",
      "0  1  1  2  3  5  8  13  21  34  "
     ]
    }
   ],
   "source": [
    "#10.Display Fibonacci series up to 10 terms\n",
    "# first two numbers\n",
    "num1, num2 = 0, 1\n",
    "\n",
    "print(\"Fibonacci sequence:\")\n",
    "for i in range(10):\n",
    "    print(num1, end=\"  \")\n",
    "    res = num1 + num2\n",
    "    num1 = num2\n",
    "    num2 = res\n"
   ]
  },
  {
   "cell_type": "code",
   "execution_count": 48,
   "id": "219cc971",
   "metadata": {},
   "outputs": [
    {
     "name": "stdout",
     "output_type": "stream",
     "text": [
      "Given Number  76542\n",
      "Revere Number  24567\n"
     ]
    }
   ],
   "source": [
    "#11.Reverse a given integer number\n",
    "num = 76542\n",
    "reverse_number = 0\n",
    "print(\"Given Number \", num)\n",
    "while num > 0:\n",
    "    reminder = num % 10\n",
    "    reverse_number = (reverse_number * 10) + reminder\n",
    "    num = num // 10\n",
    "print(\"Revere Number \", reverse_number)"
   ]
  },
  {
   "cell_type": "code",
   "execution_count": null,
   "id": "23ff13b4",
   "metadata": {},
   "outputs": [],
   "source": []
  }
 ],
 "metadata": {
  "kernelspec": {
   "display_name": "Python 3 (ipykernel)",
   "language": "python",
   "name": "python3"
  },
  "language_info": {
   "codemirror_mode": {
    "name": "ipython",
    "version": 3
   },
   "file_extension": ".py",
   "mimetype": "text/x-python",
   "name": "python",
   "nbconvert_exporter": "python",
   "pygments_lexer": "ipython3",
   "version": "3.10.6"
  }
 },
 "nbformat": 4,
 "nbformat_minor": 5
}
