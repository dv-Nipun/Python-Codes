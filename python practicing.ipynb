{
 "cells": [
  {
   "cell_type": "code",
   "execution_count": 2,
   "id": "4f5f59ff",
   "metadata": {},
   "outputs": [
    {
     "name": "stdout",
     "output_type": "stream",
     "text": [
      "600\n",
      "70\n"
     ]
    }
   ],
   "source": [
    "# 1.  Calculate the multiplication and sum of two numbers\n",
    "def mul_or_sum(n1,n2):\n",
    "    product=n1*n2\n",
    "    \n",
    "    if product<=1000:\n",
    "        return product\n",
    "    else:\n",
    "        return n1+n2\n",
    "    \n",
    "result =mul_or_sum(20,30)\n",
    "print(result)\n",
    "\n",
    "result=mul_or_sum(40,30)\n",
    "print(result)\n",
    "    \n",
    "    "
   ]
  },
  {
   "cell_type": "code",
   "execution_count": 4,
   "id": "9faa2502",
   "metadata": {},
   "outputs": [
    {
     "name": "stdout",
     "output_type": "stream",
     "text": [
      "Printing current and previous number and their sum in a range(10)\n",
      "Current Number 1 Previous Number  0  Sum:  19\n",
      "Current Number 2 Previous Number  1  Sum:  19\n",
      "Current Number 3 Previous Number  2  Sum:  19\n",
      "Current Number 4 Previous Number  3  Sum:  19\n",
      "Current Number 5 Previous Number  4  Sum:  19\n",
      "Current Number 6 Previous Number  5  Sum:  19\n",
      "Current Number 7 Previous Number  6  Sum:  19\n",
      "Current Number 8 Previous Number  7  Sum:  19\n",
      "Current Number 9 Previous Number  8  Sum:  19\n",
      "Current Number 10 Previous Number  9  Sum:  19\n"
     ]
    }
   ],
   "source": [
    "#2. Print the sum of the current number and the previous number\n",
    "print(\"Printing current and previous number and their sum in a range(10)\")\n",
    "pr_num = 0\n",
    "\n",
    "# loop from 1 to 10\n",
    "for i in range(1, 11):\n",
    "    x_s = pr_num + i\n",
    "    print(\"Current Number\", i, \"Previous Number \", pr_num, \" Sum: \", x_sum)\n",
    "    # modify previous number\n",
    "    # set it to the current number\n",
    "    pr_num = i"
   ]
  },
  {
   "cell_type": "code",
   "execution_count": 7,
   "id": "485e3807",
   "metadata": {},
   "outputs": [
    {
     "name": "stdout",
     "output_type": "stream",
     "text": [
      "Enter word nipun\n",
      "Original String: nipun\n",
      "n\n",
      "p\n",
      "n\n"
     ]
    }
   ],
   "source": [
    "#3.Print characters from a string that are present at an even index number\n",
    "word = input('Enter word ')\n",
    "print(\"Original String:\", word)\n",
    "\n",
    "x = list(word)\n",
    "for i in x[0::2]:\n",
    "    print(i)\n"
   ]
  },
  {
   "cell_type": "code",
   "execution_count": 12,
   "id": "56ee06a5",
   "metadata": {},
   "outputs": [
    {
     "name": "stdout",
     "output_type": "stream",
     "text": [
      "original string: pynative\n",
      "tive\n",
      "original string: pynative\n",
      "native\n"
     ]
    }
   ],
   "source": [
    "#4.#Remove first n characters from a string \n",
    "def remove(word,n):\n",
    "    print('original string:',word)\n",
    "    x=word[n:]\n",
    "    return x\n",
    "print(remove(\"pynative\",4))\n",
    "print(remove(\"pynative\",2))"
   ]
  },
  {
   "cell_type": "code",
   "execution_count": 13,
   "id": "fa853e09",
   "metadata": {},
   "outputs": [
    {
     "name": "stdout",
     "output_type": "stream",
     "text": [
      "Given list: [10, 20, 30, 40, 10]\n",
      "result is True\n",
      "Given list: [75, 65, 35, 75, 30]\n",
      "result is False\n"
     ]
    }
   ],
   "source": [
    "#5.Check if the first and last number of a list is the same\n",
    "def first_last_same(numberList):\n",
    "    print(\"Given list:\", numberList)\n",
    "    \n",
    "    first_num = numberList[0]\n",
    "    last_num = numberList[-1]\n",
    "    \n",
    "    if first_num == last_num:\n",
    "        return True\n",
    "    else:\n",
    "        return False\n",
    "\n",
    "numbers_x = [10, 20, 30, 40, 10]\n",
    "print(\"result is\", first_last_same(numbers_x))\n",
    "\n",
    "numbers_y = [75, 65, 35, 75, 30]\n",
    "print(\"result is\", first_last_same(numbers_y))\n"
   ]
  },
  {
   "cell_type": "code",
   "execution_count": 14,
   "id": "1b6910fb",
   "metadata": {},
   "outputs": [
    {
     "name": "stdout",
     "output_type": "stream",
     "text": [
      "2\n"
     ]
    }
   ],
   "source": [
    "#6.Return the count of a given substring from a string\n",
    "str_x = \"Emma is good developer. Emma is a writer\"\n",
    "cnt = str_x.count(\"Emma\")\n",
    "print(cnt)\n"
   ]
  },
  {
   "cell_type": "code",
   "execution_count": 15,
   "id": "98591ed7",
   "metadata": {},
   "outputs": [
    {
     "name": "stdout",
     "output_type": "stream",
     "text": [
      "\n",
      "\n",
      "1 \n",
      "\n",
      "2 2 \n",
      "\n",
      "3 3 3 \n",
      "\n",
      "4 4 4 4 \n",
      "\n",
      "5 5 5 5 5 \n",
      "\n",
      "6 6 6 6 6 6 \n",
      "\n",
      "7 7 7 7 7 7 7 \n",
      "\n",
      "8 8 8 8 8 8 8 8 \n",
      "\n",
      "9 9 9 9 9 9 9 9 9 \n",
      "\n"
     ]
    }
   ],
   "source": [
    "#7.Print the pattern\n",
    "for num in range(10):\n",
    "    for i in range(num):\n",
    "        print (num, end=\" \") \n",
    "    print(\"\\n\")"
   ]
  },
  {
   "cell_type": "code",
   "execution_count": 16,
   "id": "64af2333",
   "metadata": {},
   "outputs": [
    {
     "name": "stdout",
     "output_type": "stream",
     "text": [
      "original number 121\n",
      "Given number palindrome\n",
      "original number 125\n",
      "Given number is not palindrome\n"
     ]
    }
   ],
   "source": [
    "#8. code for palindrome number\n",
    "def palindrome(number):\n",
    "    print(\"original number\", number)\n",
    "    original_num = number\n",
    "\n",
    "    reverse_num = 0\n",
    "    while number > 0:\n",
    "        reminder = number % 10\n",
    "        reverse_num = (reverse_num * 10) + reminder\n",
    "        number = number // 10\n",
    "\n",
    "    if original_num == reverse_num:\n",
    "        print(\"Given number palindrome\")\n",
    "    else:\n",
    "        print(\"Given number is not palindrome\")\n",
    "\n",
    "palindrome(121)\n",
    "palindrome(125)\n"
   ]
  },
  {
   "cell_type": "code",
   "execution_count": 17,
   "id": "47903608",
   "metadata": {},
   "outputs": [
    {
     "name": "stdout",
     "output_type": "stream",
     "text": [
      "result list: [25, 35, 40, 60, 90]\n"
     ]
    }
   ],
   "source": [
    "#9.Create a new list from a two list using the following condition\n",
    "def merge_list(list1, list2):\n",
    "    result_list = []\n",
    "    \n",
    "    # iterate first list\n",
    "    for num in list1:\n",
    "        # check if current number is odd\n",
    "        if num % 2 != 0:\n",
    "            # add odd number to result list\n",
    "            result_list.append(num)\n",
    "    \n",
    "    # iterate second list\n",
    "    for num in list2:\n",
    "        # check if current number is even\n",
    "        if num % 2 == 0:\n",
    "            # add even number to result list\n",
    "            result_list.append(num)\n",
    "    return result_list\n",
    "\n",
    "list1 = [10, 20, 25, 30, 35]\n",
    "list2 = [40, 45, 60, 75, 90]\n",
    "print(\"result list:\", merge_list(list1, list2))\n"
   ]
  },
  {
   "cell_type": "code",
   "execution_count": 18,
   "id": "64055b66",
   "metadata": {},
   "outputs": [
    {
     "name": "stdout",
     "output_type": "stream",
     "text": [
      "* * * * *  \n",
      "* * * *  \n",
      "* * *  \n",
      "* *  \n",
      "*  \n",
      " \n"
     ]
    }
   ],
   "source": [
    "#10.Star pattern\n",
    "for i in range(6, 0, -1):\n",
    "    for j in range(0, i - 1):\n",
    "        print(\"*\", end=' ')\n",
    "    print(\" \")\n"
   ]
  },
  {
   "cell_type": "code",
   "execution_count": 19,
   "id": "41840c3e",
   "metadata": {},
   "outputs": [
    {
     "name": "stdout",
     "output_type": "stream",
     "text": [
      "1 2 3 4 5 6 7 8 9 10 \t\t\n",
      "2 4 6 8 10 12 14 16 18 20 \t\t\n",
      "3 6 9 12 15 18 21 24 27 30 \t\t\n",
      "4 8 12 16 20 24 28 32 36 40 \t\t\n",
      "5 10 15 20 25 30 35 40 45 50 \t\t\n",
      "6 12 18 24 30 36 42 48 54 60 \t\t\n",
      "7 14 21 28 35 42 49 56 63 70 \t\t\n",
      "8 16 24 32 40 48 56 64 72 80 \t\t\n",
      "9 18 27 36 45 54 63 72 81 90 \t\t\n",
      "10 20 30 40 50 60 70 80 90 100 \t\t\n"
     ]
    }
   ],
   "source": [
    "#11.Print multiplication table form 1 to 10\n",
    "for i in range(1, 11):\n",
    "    for j in range(1, 11):\n",
    "        print(i * j, end=\" \")\n",
    "    print(\"\\t\\t\")\n"
   ]
  },
  {
   "cell_type": "code",
   "execution_count": 20,
   "id": "6b5eb2c1",
   "metadata": {},
   "outputs": [
    {
     "name": "stdout",
     "output_type": "stream",
     "text": [
      "Given list: [10, 20, 33, 46, 55]\n",
      "Multiple of  5:\n",
      "10\n",
      "20\n",
      "55\n"
     ]
    }
   ],
   "source": [
    "#12.Display numbers divisible by 5 from a list\n",
    "num_list = [10, 20, 33, 46, 55]\n",
    "print(\"Given list:\", num_list)\n",
    "print('Multiple of  5:')\n",
    "for num in num_list:\n",
    "    if num % 5 == 0:\n",
    "        print(num)\n"
   ]
  },
  {
   "cell_type": "code",
   "execution_count": null,
   "id": "ebb365de",
   "metadata": {},
   "outputs": [],
   "source": []
  }
 ],
 "metadata": {
  "kernelspec": {
   "display_name": "Python 3 (ipykernel)",
   "language": "python",
   "name": "python3"
  },
  "language_info": {
   "codemirror_mode": {
    "name": "ipython",
    "version": 3
   },
   "file_extension": ".py",
   "mimetype": "text/x-python",
   "name": "python",
   "nbconvert_exporter": "python",
   "pygments_lexer": "ipython3",
   "version": "3.10.6"
  }
 },
 "nbformat": 4,
 "nbformat_minor": 5
}
